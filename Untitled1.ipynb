{
 "cells": [
  {
   "cell_type": "code",
   "execution_count": 2,
   "metadata": {},
   "outputs": [],
   "source": [
    "import numpy as np\n",
    "from scipy.integrate import odeint\n",
    "import math\n",
    "from numpy import loadtxt\n",
    "from matplotlib import pyplot as plt\n",
    "import pandas as pd\n",
    "from itertools import count\n",
    "from matplotlib.animation import FuncAnimation\n",
    "from IPython import display"
   ]
  },
  {
   "cell_type": "markdown",
   "metadata": {},
   "source": []
  },
  {
   "cell_type": "code",
   "execution_count": 1,
   "metadata": {},
   "outputs": [
    {
     "ename": "NameError",
     "evalue": "name 'math' is not defined",
     "output_type": "error",
     "traceback": [
      "\u001b[1;31m---------------------------------------------------------------------------\u001b[0m",
      "\u001b[1;31mNameError\u001b[0m                                 Traceback (most recent call last)",
      "\u001b[1;32m<ipython-input-1-1b9ce434f35c>\u001b[0m in \u001b[0;36m<module>\u001b[1;34m\u001b[0m\n\u001b[0;32m     10\u001b[0m \u001b[0mOmega_Earth\u001b[0m \u001b[1;33m=\u001b[0m \u001b[1;36m7.2921150\u001b[0m \u001b[1;33m*\u001b[0m \u001b[0mpow\u001b[0m\u001b[1;33m(\u001b[0m\u001b[1;36m10\u001b[0m\u001b[1;33m,\u001b[0m\u001b[1;33m-\u001b[0m\u001b[1;36m5\u001b[0m\u001b[1;33m)\u001b[0m  \u001b[1;31m#Earth’s angular rotational speed (rad/s)\u001b[0m\u001b[1;33m\u001b[0m\u001b[1;33m\u001b[0m\u001b[0m\n\u001b[0;32m     11\u001b[0m \u001b[1;33m\u001b[0m\u001b[0m\n\u001b[1;32m---> 12\u001b[1;33m \u001b[0momega\u001b[0m \u001b[1;33m=\u001b[0m \u001b[0mmath\u001b[0m\u001b[1;33m.\u001b[0m\u001b[0msqrt\u001b[0m\u001b[1;33m(\u001b[0m\u001b[0mg\u001b[0m\u001b[1;33m/\u001b[0m\u001b[0ml\u001b[0m\u001b[1;33m)\u001b[0m\u001b[1;33m\u001b[0m\u001b[1;33m\u001b[0m\u001b[0m\n\u001b[0m\u001b[0;32m     13\u001b[0m \u001b[1;33m\u001b[0m\u001b[0m\n\u001b[0;32m     14\u001b[0m \u001b[1;33m\u001b[0m\u001b[0m\n",
      "\u001b[1;31mNameError\u001b[0m: name 'math' is not defined"
     ]
    }
   ],
   "source": [
    "# Setting up the parameters\n",
    "pi = 3.1416\n",
    "g= 9.8    #m/s^2\n",
    "theta = 0*2*pi/180 #radians\n",
    "drag_coeff_linear = 0.7\n",
    "drag_coeff_quad = 0.7\n",
    "l = 7.98 #  ± 0.005    In the laboratory’s frame of reference, altitude of point of suspension\n",
    "r = 6.371397 * pow(10,6)  # Radius of Earth (metres)\n",
    "phi  = 0.788714289  #latitude (radians)\n",
    "Omega_Earth = 7.2921150 * pow(10,-5)  #Earth’s angular rotational speed (rad/s)\n",
    "\n",
    "omega = math.sqrt(g/l)\n",
    "\n",
    "\n",
    "A = 2.0*Omega_Earth*math.sin(phi)\n",
    "B= 0.000\n",
    "C= pow(omega,2)\n",
    "\n",
    "P = np.array([A, B, C], dtype=np.float_)\n"
   ]
  },
  {
   "cell_type": "code",
   "execution_count": null,
   "metadata": {},
   "outputs": [],
   "source": [
    "def vectorfield(Y, t, P):\n",
    "    \"\"\"\n",
    "    Defines the differential equations for the coupled spring-mass system.\n",
    "\n",
    "    Arguments:\n",
    "        w :  vector of the state variables:\n",
    "                  w = [x1,y1,x2,y2]\n",
    "        t :  time\n",
    "        p :  vector of the parameters:\n",
    "                  p = [m1,m2,k1,k2,L1,L2,b1,b2]\n",
    "    \"\"\"\n",
    "    x, y, u, v = Y\n",
    "    A, B, C = P\n",
    "    f = np.array([u, v, A * v - B * u - C * x, -A * u - B * v - C * y], dtype=np.float_)\n",
    "    # Create f = (x1',y1',x2',y2'):\n",
    "    return f\n",
    "\n",
    "\n"
   ]
  },
  {
   "cell_type": "code",
   "execution_count": null,
   "metadata": {},
   "outputs": [],
   "source": [
    "abserr = 1.0e-6\n",
    "relerr = 1.0e-6\n",
    "stoptime = 4.0 * 60 * 60\n",
    "numpoints = 2500\n",
    "Y_0 = np.array([1,0 , 0, 0])\n",
    "t = [stoptime * float(i) / (numpoints - 1) for i in range(numpoints)]\n",
    "sol = odeint(vectorfield, Y_0, t, args=(P,),\n",
    "             atol=abserr, rtol=relerr)\n",
    "\n",
    "print (sol.shape)\n",
    "\n",
    "x = sol[:, 0]\n",
    "v_x = sol[:, 2]\n",
    "v_y = sol[:, 3]\n",
    "\n"
   ]
  },
  {
   "cell_type": "code",
   "execution_count": null,
   "metadata": {},
   "outputs": [],
   "source": [
    "#plt.plot(t, sol[:, 0])\n",
    "#plt.savefig('plot3x.png')\n",
    "#plt.plot(t, sol[:, 1])\n",
    "#plt.savefig('plot3y.png')\n",
    "\n",
    "\n",
    "\n"
   ]
  },
  {
   "cell_type": "code",
   "execution_count": null,
   "metadata": {},
   "outputs": [],
   "source": [
    "fig = plt.figure()\n",
    "lines = plt.plot([])\n",
    "line = lines[0]\n",
    "plt.xlim(-1,1)\n",
    "plt.ylim(-0.6,0.6)"
   ]
  },
  {
   "cell_type": "code",
   "execution_count": null,
   "metadata": {},
   "outputs": [],
   "source": []
  },
  {
   "cell_type": "code",
   "execution_count": null,
   "metadata": {},
   "outputs": [],
   "source": [
    "def animate(i):\n",
    "    #update plot\n",
    "    y = sol[:, 1]\n",
    "    line.set_data(x[:i],y[:i])\n",
    "\n",
    "anim = FuncAnimation(fig,animate, frames=1000, interval=20)\n",
    "video = anim.to_html5_video()\n",
    "html = display.HTML(video)\n",
    "display.display(html)\n",
    "plt.close()"
   ]
  },
  {
   "cell_type": "code",
   "execution_count": null,
   "metadata": {},
   "outputs": [],
   "source": []
  }
 ],
 "metadata": {
  "kernelspec": {
   "display_name": "Python 3",
   "language": "python",
   "name": "python3"
  },
  "language_info": {
   "codemirror_mode": {
    "name": "ipython",
    "version": 3
   },
   "file_extension": ".py",
   "mimetype": "text/x-python",
   "name": "python",
   "nbconvert_exporter": "python",
   "pygments_lexer": "ipython3",
   "version": "3.7.4"
  }
 },
 "nbformat": 4,
 "nbformat_minor": 4
}
